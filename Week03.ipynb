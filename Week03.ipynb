import numpy as np
import pandas as pd

%precision 3

# 학생번호를 인덱스로 csv 팡리을 읽어들여, 변수 df에 저장
df = pd.read_csv('/content/drive/MyDrive/Statistical_Analysis/ch2_scores_em.csv', index_col='student number')
scores = np.array(df['english'])[:10]
scores

scores_df = pd.DataFrame({'score':scores}, index=pd.Index(['A', 'B', 'C', 'D', 'E', 'F', 'G', 'H', 'I', 'J'], name = 'student'))
scores_df

sum(scores) / len(scores)

np.mean(scores)

scores_df.mean()

sorted_scores = np.sort(scores)
sorted_scores

n = len(sorted_scores)
if n%2==0:
	m0 = sorted_scores[n//2-1]
	m1 = sorted_scores[n//2]
	median=(m0+m1)/2
else:
	median=sorted_scores[(n+1)//2-1]
median

pd.Series([1, 1, 1, 2, 2, 3]).mode()

pd.Series([1, 2, 3, 4, 5]).mode()

# 1.2.1.1 편차
mean = np.mean(scores)
deviation = scores - mean
deviation

another_scores = [50, 60, 58, 54, 51, 56, 57, 53, 52, 59]
another_mean = np.mean(another_scores)
another_deviation = another_scores - another_mean
another_deviation

np.mean(deviation)

np.mean(another_deviation)

summary_df = scores_df.copy()
summary_df['deviation'] = deviation
summary_df

summary_df.mean()

np.mean(deviation ** 2)

np.var(scores)

# 2.2.1 분산 (Vairiance)
scores_df.var()

summary_df['squeare deviation'] = np.square(deviation)
summary_df

# 1.2.1.3 표준편차
# ddof = 0은 표준 분산
np.sqrt(np.var(scores, ddof = 0))

np.std(scores, ddof=0)

np.max(scores) - np.min (scores)

# Q1 : 데이터 중앙값 아래에서의 중앙값
scores_Q1 = np.percentile(scores, 25)
# Q3 : 데이터 중앙값 위에서의 중앙값
scores_Q3 = np.percentile(scores, 75)

# 사분 범위 IQR
#  : 50%의 데이터들이 흩어진 정도 
scores_IQR = scores_Q3 - scores_Q1
scores_IQR

# 책 p.50 참고

# 1.2.3 데이터의 지표 정리
pd.Series(scores).describe()

# 2.3.1 표준화
# Z-Score : 표준화된 데이터
z = (scores - np.mean(scores)) / np.std(scores)
z

np.mean(z), np.std(z, ddof = 0)

# 편찻값 : 평균이 50, 표준편차가 10이 되도록 정규화한 값
z = 50 + 10 * (scores - np.mean(scores)) / np.std(scores)
z

scores_df['deviation value'] = z
scores_df

# 2.4.1 도수분포표
# 50명의 영어 점수 array
english_scores = np.array(df['english'])
# Series로 변환하여 describe를 표시
pd.Series(english_scores).describe()

freq, _ = np.histogram(english_scores, bins=10, range=(0, 100))
freq

# 0 ~ 10, 10 ~ 20, . . . 이라는 문자열의 리스트를 작성
freq_class = [f'{i}~{i+10}' for i in range(0, 100, 10)]
# freq_class를 인덱스로 DataFrame을 작성
freq_dist_df = pd.DataFrame({'frequency':freq}, index = pd.Index(freq_class, name = 'class'))
freq_dist_df

# 2.4.1. 참고 : for문과 range() 함수
# ★ 이 중 시험 하나 냈음

for a in range(7):
  print(a)
for a in range(10, 5, -1):
  print(a)
for a in range(20, 31, 2):
  print(a)

total = 0
for i in range(1, 10):
  total = total + i
print(total)

total = 0
for i in range(1, 10, 2):
  total = total + i
print(total)

class_value = [(i+(i+10)) // 2 for i in range(0, 100, 10)]
class_value

rel_freq = freq / freq.sum()
rel_freq

cum_rel_freq = np.cumsum(rel_freq)
cum_rel_freq

# 계급값, 상대도수, 누적상대도수를 도수분포표에 추가
freq_dist_df['class value'] = class_value
freq_dist_df['relative frequency'] = rel_freq
freq_dist_df['cumulative relative frequency'] = cum_rel_freq
freq_dist_df = freq_dist_df[['class value', 'frequency', 'relative frequency', 'cumulative relative frequency']]
freq_dist_df
freq_dist_df['class value'] = class_value
freq_dist_df['relative frequency'] = rel_freq
freq_dist_df['cumulative relative frequency'] = cum_rel_freq
freq_dist_df = freq_dist_df[['class value', 'frequency', 'relative frequency', 'cumulative relative frequency']]
freq_dist_df


# 최빈값 : 최대가 되는 계급의 계급값
freq_dist_df.loc[freq_dist_df['frequency'].idxmax(), 'class value']

# 2.4.2 히스토그램
# Matplotlib의 pyplot 모듈을 plt라는 이름으로 임포트
import matplotlib.pyplot as plt

# 그래프가 Jupyter notebook 위에 표시
%matplotlib inline

# 캔버스를 생성
# figsize로 가로/세로 크기를 지정
fig = plt.figure(figsize=(10, 6))
# 캔버스 위에 그래프를 그리기 위한 영역을 지정
# 인수는 영역을 1*1개 지정. 하나의 영역에 그린다는 것을 의미
ax = fig.add_subplot(111)

# 계급수를 10으로 하여 히스토그램을 그림
freq, _, _ = ax.hist(english_scores, bins=10, range=(0, 100))
# X축에 레이블 부여
ax.set_xlabel('score')
# Y축에 레이블 부여
ax.set_ylabel('person number')
# X축을 0, 10, 20, ..., 100 눈금으로 구분
ax.set_xticks(np.linspace(0, 100, 10+1))
# Y축을 0, 1, 2, ... 의 눈금으로 구분
ax.set_yticks(np.arange(0, freq.max()+1))
# 그래프 표시
plt.show()

fig = plt.figure(figsize=(10, 6))
ax = fig.add_subplot(111)
freq, _, _ = ax.hist(english_scores, bins=25, range=(0, 100))
ax.set_xlabel('score')
ax.set_ylabel('person number')
ax.set_xticks(np.linspace(0, 100, 25+1))
ax.set_yticks(np.arange(0, freq.max()+1))
plt.show()

fig = plt.figure(figsize=(10,6))
ax1 = fig.add_subplot(111)
ax2 = ax1.twinx()

weights = np.ones_like(english_scores) / len(english_scores)
rel_freq, _, _ = ax1.hist(english_scores, bins=25, range=(0, 100), weights=weights)
cum_rel_freq = np.cumsum(rel_freq)
class_value = [(i+(i+4)) // 2 for i in range(0, 100, 4)]
ax2.plot(class_value, cum_rel_freq, ls='--', marker='o', color='gray')
ax2.grid(visible=False)

ax1.set_xlabel('score')
ax1.set_ylabel('relative frequency')
ax2.set_ylabel('cumulative relative frequency')
ax1.set_xticks(np.linspace(0, 100, 25+1))

plt.show()

import matplotlib.pyplot as plt
fig = plt.figure()
ax1=fig.add_subplot(2,1,1)
ax2=fig.add_subplot(2,1,2)
x = range(0, 100)
y = [v*v for v in x]
ax1.plot(x,y)
ax2.bar(x,y)
plt.show()

