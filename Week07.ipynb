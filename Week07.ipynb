{
 "cells": [
  {
   "cell_type": "markdown",
   "id": "89a0dcf2-febf-489c-b0b5-4cbd829fd201",
   "metadata": {},
   "source": [
    "# CH05 이산형 확률변수"
   ]
  },
  {
   "cell_type": "markdown",
   "id": "6b572377-8d0e-486f-8e82-519b80c2485e",
   "metadata": {},
   "source": [
    "## 5.1 1차원 이산형 확률변수"
   ]
  },
  {
   "cell_type": "code",
   "execution_count": 2,
   "id": "65f41e56-2ee7-4470-a51b-4859f3a7b2d2",
   "metadata": {},
   "outputs": [],
   "source": [
    "import numpy as np\n",
    "import matplotlib.pyplot as plt\n",
    "\n",
    "%precision 3\n",
    "%matplotlib inline"
   ]
  },
  {
   "cell_type": "code",
   "execution_count": 4,
   "id": "26402e46-48b7-4b8f-9ff1-0e7b19d11f02",
   "metadata": {},
   "outputs": [
    {
     "data": {
      "text/plain": [
       "array([1, 2, 3, 4, 5, 6])"
      ]
     },
     "execution_count": 4,
     "metadata": {},
     "output_type": "execute_result"
    }
   ],
   "source": [
    "# 불공정한 주사위가 취할 수 있는 값의 집합\n",
    "x_set = np.array([1, 2, 3, 4, 5, 6])\n",
    "x_set"
   ]
  },
  {
   "cell_type": "markdown",
   "id": "050aa346-7646-4470-8b72-e5a96ed9acb9",
   "metadata": {},
   "source": [
    "### < PMF, Probability Mass Function (확률(질량)함수) >"
   ]
  },
  {
   "cell_type": "code",
   "execution_count": 5,
   "id": "ede0e4b9-f3f4-488b-ae47-6e1b31b6ab99",
   "metadata": {},
   "outputs": [],
   "source": [
    "def f(x):\n",
    "    if x in x_set:\n",
    "        # 확률 분포를 return\n",
    "        return x/21\n",
    "    else:\n",
    "        return 0"
   ]
  },
  {
   "cell_type": "code",
   "execution_count": 49,
   "id": "a593a4b6-2cf9-47d2-a603-c536a000f518",
   "metadata": {},
   "outputs": [],
   "source": [
    "X = [x_set, f]"
   ]
  },
  {
   "cell_type": "code",
   "execution_count": 52,
   "id": "1ccb678c-fe13-45fc-a972-f508b8132f86",
   "metadata": {},
   "outputs": [
    {
     "data": {
      "text/plain": [
       "{np.int64(1): 0.048,\n",
       " np.int64(2): 0.095,\n",
       " np.int64(3): 0.143,\n",
       " np.int64(4): 0.190,\n",
       " np.int64(5): 0.238,\n",
       " np.int64(6): 0.286}"
      ]
     },
     "execution_count": 52,
     "metadata": {},
     "output_type": "execute_result"
    }
   ],
   "source": [
    "# 확률 p_k를 구한다\n",
    "prob_x = np.array([f(x_k) for x_k in x_set])\n",
    "\n",
    "# x_k와 p_k의 대응을 사전식으로 표시\n",
    "dict(zip(x_set, prob_x))"
   ]
  },
  {
   "cell_type": "code",
   "execution_count": 53,
   "id": "db734366-a208-4615-9b1b-8237a2aa39b0",
   "metadata": {},
   "outputs": [
    {
     "data": {
      "text/plain": [
       "1.000"
      ]
     },
     "execution_count": 53,
     "metadata": {},
     "output_type": "execute_result"
    }
   ],
   "source": [
    "# 모든 확률은 더하면 1이 된다!\n",
    "np.sum(prob_x)"
   ]
  },
  {
   "cell_type": "code",
   "execution_count": 54,
   "id": "540abb4d-0bfb-4444-a33a-21f5482b8b5c",
   "metadata": {},
   "outputs": [
    {
     "data": {
      "image/png": "[encoded data removed]",
      "text/plain": [
       "<Figure size 1000x600 with 1 Axes>"
      ]
     },
     "metadata": {},
     "output_type": "display_data"
    }
   ],
   "source": [
    "fig = plt.figure(figsize=(10, 6))\n",
    "ax = fig.add_subplot(111)\n",
    "ax.bar(x_set, prob)\n",
    "ax.set_xlabel('value')\n",
    "ax.set_ylabel('probability')\n",
    "\n",
    "plt.show()"
   ]
  },
  {
   "cell_type": "markdown",
   "id": "2856f7ba-60a9-4775-a8cd-4eb575b40211",
   "metadata": {},
   "source": [
    "### =====================< dictionary 실습 > ====================="
   ]
  },
  {
   "cell_type": "code",
   "execution_count": 42,
   "id": "73a9be03-1537-45fd-8264-8e85f5430137",
   "metadata": {},
   "outputs": [
    {
     "data": {
      "text/plain": [
       "{'사과': 1, '딸기': 5, '귤': 10}"
      ]
     },
     "execution_count": 42,
     "metadata": {},
     "output_type": "execute_result"
    }
   ],
   "source": [
    "a = {'사과':1, '딸기':5, '귤':10}\n",
    "a\n",
    "# 순서를 임의로 변경하였으나 교재에 있는 모든 실습 코드를 작성하였음."
   ]
  },
  {
   "cell_type": "code",
   "execution_count": 29,
   "id": "1c244ec1-ecc9-4646-b968-f27fa10cd528",
   "metadata": {},
   "outputs": [
    {
     "data": {
      "text/plain": [
       "5"
      ]
     },
     "execution_count": 29,
     "metadata": {},
     "output_type": "execute_result"
    }
   ],
   "source": [
    "v1 = a['딸기']\n",
    "v1"
   ]
  },
  {
   "cell_type": "code",
   "execution_count": 30,
   "id": "efaf775f-f0bc-4cdd-ace5-cbddc6a55932",
   "metadata": {},
   "outputs": [
    {
     "data": {
      "text/plain": [
       "5"
      ]
     },
     "execution_count": 30,
     "metadata": {},
     "output_type": "execute_result"
    }
   ],
   "source": [
    "v1 = a.get('딸기')\n",
    "v1"
   ]
  },
  {
   "cell_type": "code",
   "execution_count": 32,
   "id": "a5192929-9e3a-4f40-b39a-c9d33c7ddf4d",
   "metadata": {},
   "outputs": [
    {
     "data": {
      "text/plain": [
       "True"
      ]
     },
     "execution_count": 32,
     "metadata": {},
     "output_type": "execute_result"
    }
   ],
   "source": [
    "f1 = '딸기' in a\n",
    "f1"
   ]
  },
  {
   "cell_type": "code",
   "execution_count": 33,
   "id": "d2b0457d-e95f-4f0d-8996-ddff71c5e4d4",
   "metadata": {},
   "outputs": [
    {
     "data": {
      "text/plain": [
       "True"
      ]
     },
     "execution_count": 33,
     "metadata": {},
     "output_type": "execute_result"
    }
   ],
   "source": [
    "f2 = '레몬' not in a\n",
    "f2"
   ]
  },
  {
   "cell_type": "code",
   "execution_count": 34,
   "id": "3c981168-fb15-44c1-a482-61c680168d8d",
   "metadata": {},
   "outputs": [
    {
     "data": {
      "text/plain": [
       "False"
      ]
     },
     "execution_count": 34,
     "metadata": {},
     "output_type": "execute_result"
    }
   ],
   "source": [
    "f3 = '레몬' in a\n",
    "f3"
   ]
  },
  {
   "cell_type": "code",
   "execution_count": 31,
   "id": "2964b287-d7c5-4026-9ad2-badd341592d9",
   "metadata": {},
   "outputs": [],
   "source": [
    "# v2 = a['레몬']\n",
    "# 오류 발생\n",
    "\n",
    "v2 = a.get('레몬')\n",
    "v2"
   ]
  },
  {
   "cell_type": "code",
   "execution_count": 20,
   "id": "1b47baa5-76c7-4bab-8f2f-6c9a4f1749b7",
   "metadata": {},
   "outputs": [
    {
     "data": {
      "text/plain": [
       "{('초콜릿', 200): 20, ('마카롱', 500): 15, ('쿠키', 300): 30}"
      ]
     },
     "execution_count": 20,
     "metadata": {},
     "output_type": "execute_result"
    }
   ],
   "source": [
    "a = {('초콜릿', 200):20, ('마카롱', 500):15, ('쿠키', 300):30}\n",
    "a"
   ]
  },
  {
   "cell_type": "code",
   "execution_count": 35,
   "id": "3b078f64-7291-498c-a113-ad703b35be80",
   "metadata": {},
   "outputs": [
    {
     "data": {
      "text/plain": [
       "{'초콜릿': 'One', '마카롱': 'Two', '쿠키': 'Three'}"
      ]
     },
     "execution_count": 35,
     "metadata": {},
     "output_type": "execute_result"
    }
   ],
   "source": [
    "a = {'초콜릿':1, '마카롱':2, '쿠키':3}\n",
    "a['초콜릿'] = 'One'\n",
    "a['마카롱'] = 'Two'\n",
    "a['쿠키'] = 'Three'\n",
    "a"
   ]
  },
  {
   "cell_type": "code",
   "execution_count": 36,
   "id": "812be80d-6fdc-4323-ad20-dbe5847f3726",
   "metadata": {},
   "outputs": [
    {
     "data": {
      "text/plain": [
       "{'초콜릿': 20, '마카롱': 15, '쿠키': 30}"
      ]
     },
     "execution_count": 36,
     "metadata": {},
     "output_type": "execute_result"
    }
   ],
   "source": [
    "d = dict(초콜릿 = 20, 마카롱 = 15, 쿠키 = 30)\n",
    "d"
   ]
  },
  {
   "cell_type": "code",
   "execution_count": 37,
   "id": "378a0c35-5bfa-4f41-9d85-fb2b1a39ffc6",
   "metadata": {},
   "outputs": [
    {
     "data": {
      "text/plain": [
       "{'초콜릿': 20, '마카롱': 15, '쿠키': 30}"
      ]
     },
     "execution_count": 37,
     "metadata": {},
     "output_type": "execute_result"
    }
   ],
   "source": [
    "key = ['초콜릿', '마카롱', '쿠키']\n",
    "value = [20, 15, 30]\n",
    "d = dict(zip(key, value))\n",
    "d"
   ]
  },
  {
   "cell_type": "code",
   "execution_count": 39,
   "id": "daa29f1d-f776-463d-babd-70c17a7e421c",
   "metadata": {},
   "outputs": [
    {
     "data": {
      "text/plain": [
       "{'초콜릿': 20, '마카롱': 15, '쿠키': 30}"
      ]
     },
     "execution_count": 39,
     "metadata": {},
     "output_type": "execute_result"
    }
   ],
   "source": [
    "d = dict([('초콜릿', 20), ('마카롱', 15), ('쿠키', 30)])\n",
    "d"
   ]
  },
  {
   "cell_type": "markdown",
   "id": "5ddf68de-f903-4287-811e-58540a513431",
   "metadata": {},
   "source": [
    "### ================================================================"
   ]
  },
  {
   "cell_type": "markdown",
   "id": "4535e4f9-15b1-4d02-8307-8d0368abd350",
   "metadata": {},
   "source": [
    "### < CDF, Cumulative Distribution Function ((누적) 분포 함수) >"
   ]
  },
  {
   "cell_type": "code",
   "execution_count": 43,
   "id": "f39c8313-4cfe-4084-87bc-8d9485201795",
   "metadata": {},
   "outputs": [],
   "source": [
    "def F(x):\n",
    "    return np.sum([f(x_k) for x_k in x_set if x_k <= x])"
   ]
  },
  {
   "cell_type": "code",
   "execution_count": 44,
   "id": "c50721fe-7891-4b9e-93ab-7be202d9694a",
   "metadata": {},
   "outputs": [
    {
     "data": {
      "text/plain": [
       "0.286"
      ]
     },
     "execution_count": 44,
     "metadata": {},
     "output_type": "execute_result"
    }
   ],
   "source": [
    "F(3)"
   ]
  },
  {
   "cell_type": "markdown",
   "id": "9b197ea5-22b2-42bc-9d93-eacad9bec7dc",
   "metadata": {},
   "source": [
    "### 확률변수의 변환"
   ]
  },
  {
   "cell_type": "code",
   "execution_count": 63,
   "id": "f60f52fc-a235-41b6-8c5c-6e95eeb17d65",
   "metadata": {},
   "outputs": [
    {
     "name": "stdout",
     "output_type": "stream",
     "text": [
      "확률변수 X의 확률\n"
     ]
    },
    {
     "data": {
      "text/plain": [
       "{np.int64(5): 0.048,\n",
       " np.int64(7): 0.095,\n",
       " np.int64(9): 0.143,\n",
       " np.int64(11): 0.190,\n",
       " np.int64(13): 0.238,\n",
       " np.int64(15): 0.286}"
      ]
     },
     "execution_count": 63,
     "metadata": {},
     "output_type": "execute_result"
    }
   ],
   "source": [
    "y_set = np.array([2 * x_k + 3 for x_k in x_set])\n",
    "prob_y = np.array([f(x_k) for x_k in x_set])\n",
    "\n",
    "print('확률변수 X의 확률')\n",
    "dict(zip(y_set, prob_y))"
   ]
  },
  {
   "cell_type": "code",
   "execution_count": 61,
   "id": "7113d7da-6892-4bfa-9c91-c647126d78eb",
   "metadata": {},
   "outputs": [
    {
     "name": "stdout",
     "output_type": "stream",
     "text": [
      "확률변수 X의 확률\n"
     ]
    },
    {
     "data": {
      "text/plain": [
       "{np.int64(1): 0.048,\n",
       " np.int64(2): 0.095,\n",
       " np.int64(3): 0.143,\n",
       " np.int64(4): 0.190,\n",
       " np.int64(5): 0.238,\n",
       " np.int64(6): 0.286}"
      ]
     },
     "execution_count": 61,
     "metadata": {},
     "output_type": "execute_result"
    }
   ],
   "source": [
    "print('확률변수 X의 확률')\n",
    "dict(zip(x_set, prob))"
   ]
  },
  {
   "cell_type": "markdown",
   "id": "0ee11208-5b02-4a25-bef7-fbb47e72fb32",
   "metadata": {},
   "source": [
    "### < 기댓값 (expected value) >"
   ]
  },
  {
   "cell_type": "code",
   "execution_count": 64,
   "id": "76dec260-f820-4ee4-8e55-23bb9953d295",
   "metadata": {},
   "outputs": [
    {
     "data": {
      "text/plain": [
       "4.333"
      ]
     },
     "execution_count": 64,
     "metadata": {},
     "output_type": "execute_result"
    }
   ],
   "source": [
    "np.sum([x_k * f(x_k) for x_k in x_set])"
   ]
  },
  {
   "cell_type": "markdown",
   "id": "de4e4735-c1a4-4362-9952-27dcf791e43f",
   "metadata": {},
   "source": [
    "### =====================< choice 실습 > ====================="
   ]
  },
  {
   "cell_type": "code",
   "execution_count": 66,
   "id": "b8564e7f-1233-4f04-a430-956b4a2ce451",
   "metadata": {},
   "outputs": [
    {
     "data": {
      "text/plain": [
       "array([4, 0, 1, 3, 2], dtype=int32)"
      ]
     },
     "execution_count": 66,
     "metadata": {},
     "output_type": "execute_result"
    }
   ],
   "source": [
    "np.random.choice(5, 5, replace=False)\n",
    "# shuffle 명령과 동일"
   ]
  },
  {
   "cell_type": "code",
   "execution_count": 67,
   "id": "c4f0d216-c610-4dc1-bab0-2eeadf92eb1d",
   "metadata": {},
   "outputs": [
    {
     "data": {
      "text/plain": [
       "array([1, 0, 3], dtype=int32)"
      ]
     },
     "execution_count": 67,
     "metadata": {},
     "output_type": "execute_result"
    }
   ],
   "source": [
    "np.random.choice(5, 3, replace=False)\n",
    "# 3개만 선택"
   ]
  },
  {
   "cell_type": "code",
   "execution_count": 68,
   "id": "1f7336d9-f7f0-4586-8736-e8212042e525",
   "metadata": {},
   "outputs": [
    {
     "data": {
      "text/plain": [
       "array([4, 0, 0, 4, 0, 3, 2, 1, 3, 1], dtype=int32)"
      ]
     },
     "execution_count": 68,
     "metadata": {},
     "output_type": "execute_result"
    }
   ],
   "source": [
    "np.random.choice(5, 10)\n",
    "# 반복해서 10개 선택"
   ]
  },
  {
   "cell_type": "code",
   "execution_count": 69,
   "id": "cb3bbd6d-d47e-4c18-af2a-31c281ef289c",
   "metadata": {},
   "outputs": [
    {
     "data": {
      "text/plain": [
       "array([3, 2, 2, 3, 3, 2, 2, 2, 2, 3], dtype=int32)"
      ]
     },
     "execution_count": 69,
     "metadata": {},
     "output_type": "execute_result"
    }
   ],
   "source": [
    "np.random.choice(5, 10, p = [0.1, 0, 0.3, 0.6, 0])\n",
    "# 선택 확률을 다르게 해서 10개 선택"
   ]
  },
  {
   "cell_type": "markdown",
   "id": "0162a938-215c-45a9-a934-7c8c0f2b9d91",
   "metadata": {},
   "source": [
    "### ======================================================="
   ]
  },
  {
   "cell_type": "code",
   "execution_count": 70,
   "id": "33d1c7d3-423e-4dda-b892-37afb984db23",
   "metadata": {},
   "outputs": [
    {
     "data": {
      "text/plain": [
       "4.334"
      ]
     },
     "execution_count": 70,
     "metadata": {},
     "output_type": "execute_result"
    }
   ],
   "source": [
    "sample = np.random.choice(x_set, int(1e6), p=prob)\n",
    "np.mean(sample)"
   ]
  },
  {
   "cell_type": "code",
   "execution_count": 71,
   "id": "378f307a-e8d7-4172-9455-c8db3b4936af",
   "metadata": {},
   "outputs": [],
   "source": [
    "def E(X, g=lambda x: x):\n",
    "    x_set, f = X\n",
    "    return np.sum([g(x_k) * f(x_k) for x_k in x_set])"
   ]
  },
  {
   "cell_type": "code",
   "execution_count": 72,
   "id": "d776182b-36a3-4961-8ac2-e18e793495c9",
   "metadata": {},
   "outputs": [
    {
     "data": {
      "text/plain": [
       "4.333"
      ]
     },
     "execution_count": 72,
     "metadata": {},
     "output_type": "execute_result"
    }
   ],
   "source": [
    "E(X)"
   ]
  },
  {
   "cell_type": "code",
   "execution_count": 73,
   "id": "52de0621-b489-44da-b570-20c381895a31",
   "metadata": {},
   "outputs": [
    {
     "data": {
      "text/plain": [
       "11.667"
      ]
     },
     "execution_count": 73,
     "metadata": {},
     "output_type": "execute_result"
    }
   ],
   "source": [
    "E(X, g=lambda x: 2*x + 3)"
   ]
  },
  {
   "cell_type": "code",
   "execution_count": 74,
   "id": "27ed9f60-697a-498a-b405-853b17d18a5a",
   "metadata": {},
   "outputs": [
    {
     "data": {
      "text/plain": [
       "11.667"
      ]
     },
     "execution_count": 74,
     "metadata": {},
     "output_type": "execute_result"
    }
   ],
   "source": [
    "2 * E(X) + 3"
   ]
  },
  {
   "cell_type": "code",
   "execution_count": 76,
   "id": "ae94225b-150a-4b28-9ffb-8238ea7a07b2",
   "metadata": {},
   "outputs": [],
   "source": [
    "strings = ['hyeja', 'parkhyeja', 'youngtea', 'kimyoungtea', 'bbangtea']"
   ]
  },
  {
   "cell_type": "code",
   "execution_count": 77,
   "id": "674650b6-4736-4404-817a-f03971fc33a0",
   "metadata": {},
   "outputs": [
    {
     "data": {
      "text/plain": [
       "['hyeja', 'parkhyeja', 'youngtea', 'kimyoungtea', 'bbangtea']"
      ]
     },
     "execution_count": 77,
     "metadata": {},
     "output_type": "execute_result"
    }
   ],
   "source": [
    "strings"
   ]
  },
  {
   "cell_type": "code",
   "execution_count": 78,
   "id": "902fff8a-92ec-4d7e-89b6-0eb696826e3b",
   "metadata": {},
   "outputs": [
    {
     "data": {
      "text/plain": [
       "11.667"
      ]
     },
     "execution_count": 78,
     "metadata": {},
     "output_type": "execute_result"
    }
   ],
   "source": [
    "2 * E(X) + 3"
   ]
  },
  {
   "cell_type": "code",
   "execution_count": 80,
   "id": "22565915-dd05-4fa0-b591-b4de744018a3",
   "metadata": {},
   "outputs": [
    {
     "data": {
      "text/plain": [
       "2.222"
      ]
     },
     "execution_count": 80,
     "metadata": {},
     "output_type": "execute_result"
    }
   ],
   "source": [
    "mean = E(X)\n",
    "np.sum([(x_k-mean)**2 * f(x_k) for x_k in x_set])"
   ]
  },
  {
   "cell_type": "code",
   "execution_count": 87,
   "id": "288ef15a-8ca7-476f-8e15-5f26a1500e18",
   "metadata": {},
   "outputs": [
    {
     "ename": "SyntaxError",
     "evalue": "closing parenthesis ')' does not match opening parenthesis '[' (2354375597.py, line 4)",
     "output_type": "error",
     "traceback": [
      "\u001b[1;36m  Cell \u001b[1;32mIn[87], line 4\u001b[1;36m\u001b[0m\n\u001b[1;33m    return np.sum([g(x_k) - mean) ** 2 * f(x_k) for x_k in x_set]\u001b[0m\n\u001b[1;37m                                ^\u001b[0m\n\u001b[1;31mSyntaxError\u001b[0m\u001b[1;31m:\u001b[0m closing parenthesis ')' does not match opening parenthesis '['\n"
     ]
    }
   ],
   "source": [
    "def V(X, g=lambda x: x):\n",
    "    x_set, f = X\n",
    "    mean = E(X, g)\n",
    "    return np.sum([g(x_k) - mean) ** 2 * f(x_k) for x_k in x_set]"
   ]
  },
  {
   "cell_type": "code",
   "execution_count": 86,
   "id": "61a38c69-a77c-466a-98fd-a5b1357daad8",
   "metadata": {},
   "outputs": [
    {
     "ename": "NameError",
     "evalue": "name 'V' is not defined",
     "output_type": "error",
     "traceback": [
      "\u001b[1;31m---------------------------------------------------------------------------\u001b[0m",
      "\u001b[1;31mNameError\u001b[0m                                 Traceback (most recent call last)",
      "Cell \u001b[1;32mIn[86], line 1\u001b[0m\n\u001b[1;32m----> 1\u001b[0m V(X)\n",
      "\u001b[1;31mNameError\u001b[0m: name 'V' is not defined"
     ]
    }
   ],
   "source": [
    "V(X)"
   ]
  },
  {
   "cell_type": "code",
   "execution_count": null,
   "id": "0f6e5e5c-85a2-4724-a0a6-7b137542e93c",
   "metadata": {},
   "outputs": [],
   "source": []
  }
 ],
 "metadata": {
  "kernelspec": {
   "display_name": "Python [conda env:base] *",
   "language": "python",
   "name": "conda-base-py"
  },
  "language_info": {
   "codemirror_mode": {
    "name": "ipython",
    "version": 3
   },
   "file_extension": ".py",
   "mimetype": "text/x-python",
   "name": "python",
   "nbconvert_exporter": "python",
   "pygments_lexer": "ipython3",
   "version": "3.13.5"
  }
 },
 "nbformat": 4,
 "nbformat_minor": 5
}
